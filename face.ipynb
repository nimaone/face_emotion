{
 "cells": [
  {
   "cell_type": "code",
   "execution_count": null,
   "metadata": {},
   "outputs": [],
   "source": [
    "# import the necessary libraries\n",
    "from torchvision.transforms import RandomHorizontalFlip\n",
    "from torch.utils.data import WeightedRandomSampler\n",
    "from sklearn.metrics import classification_report\n",
    "from torchvision.transforms import RandomCrop\n",
    "from torchvision.transforms import Grayscale\n",
    "from torchvision.transforms import ToTensor\n",
    "from torch.utils.data import random_split\n",
    "from torch.utils.data import DataLoader\n",
    "# from neuraspike import config as cfg\n",
    "# from neuraspike import EarlyStopping\n",
    "# from neuraspike import LRScheduler\n",
    "# from spike import EmotionNet\n",
    "from torchvision import transforms\n",
    "from torchvision import datasets\n",
    "import matplotlib.pyplot as plt\n",
    "from collections import Counter\n",
    "from datetime import datetime\n",
    "from torch.optim import SGD, Adam\n",
    "import torch.nn as nn\n",
    "import pandas as pd\n",
    "import argparse\n",
    "import torch\n",
    "import math\n",
    "import warnings"
   ]
  },
  {
   "cell_type": "code",
   "execution_count": 37,
   "metadata": {},
   "outputs": [
    {
     "data": {
      "text/plain": [
       "['angry', 'fear', 'happy', 'neutral', 'sad', 'surprise']"
      ]
     },
     "execution_count": 37,
     "metadata": {},
     "output_type": "execute_result"
    }
   ],
   "source": [
    "TRAIN_DIRECTORY = \"/mnt/e/nima_bsl/face/Latest-Version/Latest-Version/dataset/train\"\n",
    "TEST_DIRECTORY = \"/mnt/e/nima_bsl/face/Latest-Version/Latest-Version/dataset/test\"\n",
    "train_transform = transforms.Compose([\n",
    "    Grayscale(num_output_channels=1),\n",
    "    RandomHorizontalFlip(),\n",
    "    RandomCrop((48, 48)),\n",
    "    ToTensor()\n",
    "])\n",
    "\n",
    "test_transform = transforms.Compose([\n",
    "    Grayscale(num_output_channels=1),\n",
    "    ToTensor()\n",
    "])\n",
    "\n",
    "# load all the images within the specified folder and apply different augmentation\n",
    "train_data = datasets.ImageFolder(TRAIN_DIRECTORY, transform=train_transform)\n",
    "test_data = datasets.ImageFolder(TEST_DIRECTORY, transform=test_transform)\n",
    "\n",
    "# extract the class labels and the total number of classes\n",
    "classes = train_data.classes\n",
    "classes"
   ]
  },
  {
   "cell_type": "code",
   "execution_count": 38,
   "metadata": {},
   "outputs": [
    {
     "name": "stdout",
     "output_type": "stream",
     "text": [
      "[INFO] Class labels: ['angry', 'fear', 'happy', 'neutral', 'sad', 'surprise']\n",
      "[INFO] Train samples: 22967 ...\t Validation samples: 5742...\n"
     ]
    }
   ],
   "source": [
    "TRAIN_SIZE = .8\n",
    "VAL_SIZE = .2\n",
    "num_of_classes = len(classes)\n",
    "print(f\"[INFO] Class labels: {classes}\")\n",
    "\n",
    "# use train samples to generate train/validation set\n",
    "num_train_samples = len(train_data)\n",
    "train_size = math.floor(num_train_samples * TRAIN_SIZE)\n",
    "val_size = math.ceil(num_train_samples * VAL_SIZE)\n",
    "print(f\"[INFO] Train samples: {train_size} ...\\t Validation samples: {val_size}...\")\n",
    "\n",
    "# randomly split the training dataset into train and validation set\n",
    "train_data, val_data = random_split(train_data, [train_size, val_size])\n",
    "\n",
    "# modify the data transform applied towards the validation set\n",
    "val_data.dataset.transforms = test_transform"
   ]
  },
  {
   "cell_type": "code",
   "execution_count": null,
   "metadata": {},
   "outputs": [],
   "source": [
    "train_classes = [label for _, label in train_data]\n",
    "\n",
    "# count each labels within each classes\n",
    "class_count = Counter(train_classes)\n",
    "print(f\"[INFO] Total sample: {class_count}\")"
   ]
  },
  {
   "cell_type": "code",
   "execution_count": null,
   "metadata": {},
   "outputs": [],
   "source": [
    "class_weight = torch.Tensor([len(train_classes) / c\n",
    "                             for c in pd.Series(class_count).sort_index().values])"
   ]
  },
  {
   "cell_type": "code",
   "execution_count": 42,
   "metadata": {},
   "outputs": [],
   "source": [
    "BATCH_SIZE = 16\n",
    "train_dataloader = DataLoader(train_data, batch_size=BATCH_SIZE)\n",
    "val_dataloader = DataLoader(val_data, batch_size=BATCH_SIZE)\n",
    "test_dataloader = DataLoader(test_data, batch_size=BATCH_SIZE)"
   ]
  },
  {
   "cell_type": "code",
   "execution_count": 43,
   "metadata": {},
   "outputs": [
    {
     "ename": "NameError",
     "evalue": "name 'EmotionNet' is not defined",
     "output_type": "error",
     "traceback": [
      "\u001b[0;31m---------------------------------------------------------------------------\u001b[0m",
      "\u001b[0;31mNameError\u001b[0m                                 Traceback (most recent call last)",
      "\u001b[1;32m/mnt/e/nima_bsl/face/Latest-Version/Latest-Version/face.ipynb Cell 7\u001b[0m in \u001b[0;36m<cell line: 1>\u001b[0;34m()\u001b[0m\n\u001b[0;32m----> <a href='vscode-notebook-cell://wsl%2Bubuntu/mnt/e/nima_bsl/face/Latest-Version/Latest-Version/face.ipynb#X12sdnNjb2RlLXJlbW90ZQ%3D%3D?line=0'>1</a>\u001b[0m model \u001b[39m=\u001b[39m EmotionNet(num_of_channels\u001b[39m=\u001b[39m\u001b[39m1\u001b[39m, num_of_classes\u001b[39m=\u001b[39mnum_of_classes)\n\u001b[1;32m      <a href='vscode-notebook-cell://wsl%2Bubuntu/mnt/e/nima_bsl/face/Latest-Version/Latest-Version/face.ipynb#X12sdnNjb2RlLXJlbW90ZQ%3D%3D?line=1'>2</a>\u001b[0m model \u001b[39m=\u001b[39m model\u001b[39m.\u001b[39mto(device)\n",
      "\u001b[0;31mNameError\u001b[0m: name 'EmotionNet' is not defined"
     ]
    }
   ],
   "source": [
    "model = EmotionNet(num_of_channels=1, num_of_classes=num_of_classes)\n",
    "model = model.to(device)"
   ]
  },
  {
   "cell_type": "code",
   "execution_count": null,
   "metadata": {},
   "outputs": [],
   "source": []
  }
 ],
 "metadata": {
  "kernelspec": {
   "display_name": "env_py39",
   "language": "python",
   "name": "python3"
  },
  "language_info": {
   "codemirror_mode": {
    "name": "ipython",
    "version": 3
   },
   "file_extension": ".py",
   "mimetype": "text/x-python",
   "name": "python",
   "nbconvert_exporter": "python",
   "pygments_lexer": "ipython3",
   "version": "3.9.7"
  },
  "orig_nbformat": 4
 },
 "nbformat": 4,
 "nbformat_minor": 2
}
